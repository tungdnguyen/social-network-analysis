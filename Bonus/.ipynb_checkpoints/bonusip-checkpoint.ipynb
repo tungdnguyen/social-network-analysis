{
 "cells": [
  {
   "cell_type": "code",
   "execution_count": 20,
   "metadata": {
    "collapsed": false
   },
   "outputs": [],
   "source": [
    "import networkx as nx\n",
    "\n",
    "def jaccard_wt(graph, node):\n",
    "    \"\"\"\n",
    "  The weighted jaccard score, defined above.\n",
    "  Args:\n",
    "    graph....a networkx graph\n",
    "    node.....a node to score potential new edges for.\n",
    "  Returns:\n",
    "    A list of ((node, ni), score) tuples, representing the \n",
    "              score assigned to edge (node, ni)\n",
    "              (note the edge order)\n",
    "  \"\"\"\n",
    "    node_neighbor = set(graph.neighbors(node))\n",
    "    total = 0\n",
    "    node_degree = 0\n",
    "    if len(node_neighbor) > 0:    \n",
    "        for i in node_neighbor:\n",
    "            total += graph.degree(i)\n",
    "        node_degree = 1/total\n",
    "    jaccard = []\n",
    "    for ni in graph.nodes():\n",
    "        if not graph.has_edge(node,ni) and ni != node:\n",
    "            ni_neighbor = set(graph.neighbors(ni))\n",
    "            intersection = node_neighbor & ni_neighbor\n",
    "            if len(intersection) == 0:\n",
    "                jaccard.append(((node,ni),float(0)))\n",
    "            else:\n",
    "                total = 0\n",
    "                for i in ni_neighbor:\n",
    "                    total += graph.degree(i)\n",
    "                ni_degree = 1/total\n",
    "                inter_degree = 0\n",
    "                for i in intersection:\n",
    "                    inter_degree += 1/(graph.degree(i))\n",
    "                score = inter_degree/(node_degree+ni_degree)\n",
    "                jaccard.append(((node,ni),score))\n",
    "    return jaccard"
   ]
  },
  {
   "cell_type": "code",
   "execution_count": 21,
   "metadata": {
    "collapsed": false
   },
   "outputs": [
    {
     "data": {
      "text/plain": [
       "[(('A', 'F'), 0.0),\n",
       " (('A', 'E'), 0.0),\n",
       " (('A', 'D'), 0.8888888888888888),\n",
       " (('A', 'G'), 0.8)]"
      ]
     },
     "execution_count": 21,
     "metadata": {},
     "output_type": "execute_result"
    }
   ],
   "source": [
    "jaccard_wt(example_graph(), 'A')"
   ]
  },
  {
   "cell_type": "code",
   "execution_count": 19,
   "metadata": {
    "collapsed": false
   },
   "outputs": [
    {
     "data": {
      "image/png": "[encoded data removed]",
      "text/plain": [
       "<matplotlib.figure.Figure at 0x20cacdaa5c0>"
      ]
     },
     "metadata": {},
     "output_type": "display_data"
    }
   ],
   "source": [
    "import matplotlib.pyplot as plt  \n",
    "%matplotlib inline\n",
    "nx.draw(example_graph(),with_labels = True)"
   ]
  },
  {
   "cell_type": "code",
   "execution_count": 30,
   "metadata": {
    "collapsed": false
   },
   "outputs": [
    {
     "name": "stdout",
     "output_type": "stream",
     "text": [
      "3\n"
     ]
    }
   ],
   "source": [
    "print(len(set([1,2,3]) | set()))"
   ]
  },
  {
   "cell_type": "code",
   "execution_count": null,
   "metadata": {
    "collapsed": true
   },
   "outputs": [],
   "source": [
    "AE = 0.6666666666666666 = share a neighbor with high degree (D)"
   ]
  }
 ],
 "metadata": {
  "anaconda-cloud": {},
  "kernelspec": {
   "display_name": "Python [default]",
   "language": "python",
   "name": "python3"
  },
  "language_info": {
   "codemirror_mode": {
    "name": "ipython",
    "version": 3
   },
   "file_extension": ".py",
   "mimetype": "text/x-python",
   "name": "python",
   "nbconvert_exporter": "python",
   "pygments_lexer": "ipython3",
   "version": "3.5.2"
  }
 },
 "nbformat": 4,
 "nbformat_minor": 1
}
