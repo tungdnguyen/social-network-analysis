{
 "cells": [
  {
   "cell_type": "code",
   "execution_count": 5,
   "metadata": {
    "collapsed": false
   },
   "outputs": [
    {
     "name": "stdout",
     "output_type": "stream",
     "text": [
      "Getting 4 seed users: akstanwyck, NikkiFinke, slashfilm, ErikDavis\n",
      "Creating graph...\n",
      "Saving graph to file...\n",
      "Graph has 1290 nodes and 3042 edges\n",
      "\n",
      "Clustering graph into 2 components...\n",
      "\tCluster 1 has 1 nodes\n",
      "\tCluster 2 has 1289 nodes\n",
      "\n",
      "Normalized cut value for this partition is: 1.0013149243918475\n"
     ]
    }
   ],
   "source": [
    "\"\"\"\n",
    "cluster.py\n",
    "\"\"\"\n",
    "import networkx as nx\n",
    "from collections import Counter\n",
    "import matplotlib.pyplot as plt\n",
    "import pickle\n",
    "import numpy as np\n",
    "from numpy.linalg import eigh\n",
    "\n",
    "def get_users(filename):\n",
    "    with open(filename,'rb') as f:\n",
    "        users = pickle.loads(f.read())\n",
    "    return users\n",
    "\n",
    "def follower_count(users):\n",
    "    c = Counter()\n",
    "    for user in users:\n",
    "        c.update(user['followers'])\n",
    "    return c\n",
    "\n",
    "def following_count(users):\n",
    "    c = Counter()\n",
    "    for user in users:\n",
    "        c.update(user['following'])\n",
    "    return c\n",
    "\n",
    "def create_graph(users):\n",
    "    \"\"\"Create edge between following and followers\n",
    "    Only add edge to followers who follow more than 2 seed users\n",
    "    and following that is followed by more than 3 seed users\n",
    "    \"\"\"\n",
    "    graph = nx.Graph()\n",
    "    c = follower_count(users)\n",
    "    c1 = following_count(users)\n",
    "    for user in users:\n",
    "        graph.add_node(user['id'])\n",
    "        for friend in c1.items():\n",
    "            if friend[1] >= 3:\n",
    "                if friend[0] in user['following']:\n",
    "                    graph.add_edge(int(user['id']),friend[0])\n",
    "        for follower in c.items():\n",
    "            if follower[1] >= 2:\n",
    "                if follower[0] in user['followers']:\n",
    "                    graph.add_edge(int(user['id']),follower[0])\n",
    "    return graph\n",
    "\n",
    "def draw_network(graph,users,filename):\n",
    "    plt.figure(figsize=(10,10))\n",
    "    nx.draw_networkx(graph,with_labels = False, node_size = 100, alpha = 0.3)\n",
    "    plt.savefig(filename)\n",
    "\n",
    "def volume(nodes,graph):\n",
    "    edges = []\n",
    "    for node in nodes:\n",
    "        for neighbor in graph.neighbors(node):\n",
    "            edges.append(tuple(sorted([neighbor,node])))\n",
    "    edges = list(set(edges))\n",
    "    return len(edges)\n",
    "\n",
    "def cut(S,T,graph):\n",
    "    count = 0\n",
    "    edges = graph.edges()\n",
    "    for node1, node2 in edges:\n",
    "        if (node1 in S and node2 in T) or (node2 in S and node1 in T):\n",
    "            count+=1\n",
    "    return count\n",
    "\n",
    "def norm_cut(S,T,graph):\n",
    "    return (cut(S,T,graph)/(volume(S,graph))) + (cut(S,T,graph)/volume(T,graph))\n",
    "\n",
    "def adjacency_matrix(graph):\n",
    "    return nx.adjacency_matrix(graph,sorted(graph.nodes()))\n",
    "\n",
    "def degree_matrix(graph):\n",
    "    degrees = graph.degree().items()\n",
    "    #Sort to be in the same order as adjacency_matrix\n",
    "    degrees = sorted(degrees, key = lambda x: x[0])\n",
    "    degrees = [d[1] for d in degrees]\n",
    "    return np.diag(degrees)\n",
    "\n",
    "def laplacian_matrix(graph):\n",
    "    return degree_matrix(graph) - adjacency_matrix(graph)\n",
    "\n",
    "def get_eigen(laplacian):\n",
    "    eig_vals, eig_vectors = eigh(laplacian)\n",
    "    return np.round(eig_vals,2), np.round(eig_vectors,2)\n",
    "\n",
    "def cluster(eig_vectors, nodes):\n",
    "    #eig_vectors = np.sum(eig_vectors, axis = 1)\n",
    "    nodes = sorted(nodes)\n",
    "    first_comp = []\n",
    "    second_comp = []\n",
    "    components = []\n",
    "    \"\"\"for i in range(len(nodes)):\n",
    "        if eig_vectors[i][0] >= 0:\n",
    "            first_comp.append(nodes[i])\n",
    "        elif eig_vectors[i][0] < 0:\n",
    "            second_comp.append(nodes[i])\"\"\"\n",
    "    first_comp = [nodes[0]]\n",
    "    for i in range(1,len(nodes)):\n",
    "        second_comp.append(nodes[i])\n",
    "    components.append(first_comp)\n",
    "    components.append(second_comp)\n",
    "    return components\n",
    "\n",
    "def main():\n",
    "    users = get_users('users.txt')\n",
    "    print('Getting 4 seed users:'+\" \"+', '.join([user['screen_name'] for user in users]))\n",
    "    print('Creating graph...')\n",
    "    graph = create_graph(users)\n",
    "    print('Saving graph to file...')\n",
    "    draw_network(graph,users,'network1.png')\n",
    "    print('Graph has {} nodes and {} edges'.format(len(graph.nodes()),len(graph.edges())))\n",
    "    matrix = laplacian_matrix(graph)\n",
    "    eig_vals, eig_vectors = get_eigen(matrix)\n",
    "    print('\\nClustering graph into 2 components...')\n",
    "    components = cluster(eig_vectors,graph.nodes())\n",
    "    print('\\tCluster 1 has {} nodes'.format(len(components[0])))\n",
    "    print('\\tCluster 2 has {} nodes'.format(len(components[1])))\n",
    "    print('\\nNormalized cut value for this partition is: {}'.format(norm_cut(components[0],components[1],graph)))\n",
    "\n",
    "if __name__== '__main__':\n",
    "    main()"
   ]
  },
  {
   "cell_type": "code",
   "execution_count": 6,
   "metadata": {
    "collapsed": true
   },
   "outputs": [],
   "source": [
    "graph = nx.Graph()\n",
    "graph.add_edges_from([('A', 'B'), ('A', 'C'), ('B', 'C'), ('B', 'D'), ('D', 'E'), ('D', 'F'), ('D', 'G'), ('E', 'F'), ('G', 'F'),('C','G'),('H','C')])\n"
   ]
  },
  {
   "cell_type": "code",
   "execution_count": 9,
   "metadata": {
    "collapsed": false
   },
   "outputs": [
    {
     "name": "stdout",
     "output_type": "stream",
     "text": [
      "0.6190476190476191\n"
     ]
    }
   ],
   "source": [
    "components = [['H','A','B','C'],['D','E','F','G']]\n",
    "print(norm_cut(components[0],components[1],graph))"
   ]
  },
  {
   "cell_type": "code",
   "execution_count": null,
   "metadata": {
    "collapsed": true
   },
   "outputs": [],
   "source": []
  }
 ],
 "metadata": {
  "anaconda-cloud": {},
  "kernelspec": {
   "display_name": "Python [default]",
   "language": "python",
   "name": "python3"
  },
  "language_info": {
   "codemirror_mode": {
    "name": "ipython",
    "version": 3
   },
   "file_extension": ".py",
   "mimetype": "text/x-python",
   "name": "python",
   "nbconvert_exporter": "python",
   "pygments_lexer": "ipython3",
   "version": "3.5.2"
  }
 },
 "nbformat": 4,
 "nbformat_minor": 1
}
